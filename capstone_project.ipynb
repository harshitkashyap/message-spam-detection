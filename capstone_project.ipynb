{
 "cells": [
  {
   "cell_type": "markdown",
   "metadata": {},
   "source": [
    "# MESSAGE SPAM DETECTION \n",
    "\n",
    "The purpose of this paper is to explore the results of applying machine learning techniques to Message spam detection. SMS spam (sometimes called cell phone spam) is any junk message delivered to a mobile phone as text messaging through the Short Message Service (SMS). The dataset for this project originates from the [UCI Machine Learning Repository](https://archive.ics.uci.edu/ml/datasets/SMS+Spam+Collection). This dataset is tab-separated values (TSV) file. More detail about dataset can be found on [this page](http://www.dt.fee.unicamp.br/~tiago/smsspamcollection/).\n",
    "* This dataset has been collected from free or free for research sources at the Internet. \n",
    "* The collection is composed by just one text file, where each line has the correct class followed by the raw message."
   ]
  },
  {
   "cell_type": "markdown",
   "metadata": {},
   "source": [
    "## Introduction\n",
    "\n",
    "Mobile phone spam also known as (unsolicited messages, especially advertising), directed at the text messaging or other communications services of mobile phones or smartphones. Fighting SMS spam is complicated by several factors (compared to Internet email), including the lower rate of SMS spam, which has allowed many users and service providers to ignore the issue, and the limited availability of mobile phone spam-filtering software. \n",
    "\n",
    "In the paper we would try to analysis different methods to identify spam/ham messages. We will use different approach to establish relation between the text and the category, based on size of message, word count, special keywords, using term-frequency inverse document-frequency (tf-idf) transform."
   ]
  },
  {
   "cell_type": "markdown",
   "metadata": {},
   "source": [
    "## Data Exploration\n",
    "\n",
    "First we need to import data form **data.txt** which is **tab-separated values (TSV)** file into pandas dataframe for better overview and manipulation. We can use [pd.read_csv()](http://pandas.pydata.org/pandas-docs/stable/generated/pandas.read_csv.html) function with separater as tab to load the data in dataframe and can use [dataframe.head()](http://pandas.pydata.org/pandas-docs/stable/generated/pandas.DataFrame.head.html) for better visualization."
   ]
  },
  {
   "cell_type": "code",
   "execution_count": 1,
   "metadata": {
    "collapsed": false
   },
   "outputs": [
    {
     "data": {
      "text/html": [
       "<div>\n",
       "<table border=\"1\" class=\"dataframe\">\n",
       "  <thead>\n",
       "    <tr style=\"text-align: right;\">\n",
       "      <th></th>\n",
       "      <th>Class</th>\n",
       "      <th>Text</th>\n",
       "    </tr>\n",
       "  </thead>\n",
       "  <tbody>\n",
       "    <tr>\n",
       "      <th>0</th>\n",
       "      <td>ham</td>\n",
       "      <td>Go until jurong point, crazy.. Available only ...</td>\n",
       "    </tr>\n",
       "    <tr>\n",
       "      <th>1</th>\n",
       "      <td>ham</td>\n",
       "      <td>Ok lar... Joking wif u oni...</td>\n",
       "    </tr>\n",
       "    <tr>\n",
       "      <th>2</th>\n",
       "      <td>spam</td>\n",
       "      <td>Free entry in 2 a wkly comp to win FA Cup fina...</td>\n",
       "    </tr>\n",
       "    <tr>\n",
       "      <th>3</th>\n",
       "      <td>ham</td>\n",
       "      <td>U dun say so early hor... U c already then say...</td>\n",
       "    </tr>\n",
       "    <tr>\n",
       "      <th>4</th>\n",
       "      <td>ham</td>\n",
       "      <td>Nah I don't think he goes to usf, he lives aro...</td>\n",
       "    </tr>\n",
       "  </tbody>\n",
       "</table>\n",
       "</div>"
      ],
      "text/plain": [
       "  Class                                               Text\n",
       "0   ham  Go until jurong point, crazy.. Available only ...\n",
       "1   ham                      Ok lar... Joking wif u oni...\n",
       "2  spam  Free entry in 2 a wkly comp to win FA Cup fina...\n",
       "3   ham  U dun say so early hor... U c already then say...\n",
       "4   ham  Nah I don't think he goes to usf, he lives aro..."
      ]
     },
     "execution_count": 1,
     "metadata": {},
     "output_type": "execute_result"
    }
   ],
   "source": [
    "# Import libraries necessary for this project\n",
    "import pandas as pd\n",
    "import numpy  as np\n",
    "import matplotlib.pyplot as plt\n",
    "import nltk, sys\n",
    "\n",
    "%matplotlib inline\n",
    "\n",
    "# Load the SMS Spam Collection Dataset using tab as separater\n",
    "df = pd.read_csv('data.txt',sep='\\t',names=['Class','Text'])\n",
    "df.head()"
   ]
  },
  {
   "cell_type": "code",
   "execution_count": 2,
   "metadata": {
    "collapsed": false
   },
   "outputs": [
    {
     "name": "stdout",
     "output_type": "stream",
     "text": [
      "Unique values in the Class set:  ['ham' 'spam']\n"
     ]
    }
   ],
   "source": [
    "# Count the number of words in each Text\n",
    "df['Count']=0\n",
    "for i in np.arange(0,len(df.Text)):\n",
    "    df.loc[i,'Count'] = len(df.loc[i,'Text'])\n",
    "\n",
    "# Unique values in target set\n",
    "print \"Unique values in the Class set: \", df.Class.unique()"
   ]
  },
  {
   "cell_type": "code",
   "execution_count": 3,
   "metadata": {
    "collapsed": false
   },
   "outputs": [
    {
     "data": {
      "text/html": [
       "<div>\n",
       "<table border=\"1\" class=\"dataframe\">\n",
       "  <thead>\n",
       "    <tr style=\"text-align: right;\">\n",
       "      <th></th>\n",
       "      <th>Class</th>\n",
       "      <th>Text</th>\n",
       "      <th>Count</th>\n",
       "    </tr>\n",
       "  </thead>\n",
       "  <tbody>\n",
       "    <tr>\n",
       "      <th>0</th>\n",
       "      <td>0</td>\n",
       "      <td>Go until jurong point, crazy.. Available only ...</td>\n",
       "      <td>111</td>\n",
       "    </tr>\n",
       "    <tr>\n",
       "      <th>1</th>\n",
       "      <td>0</td>\n",
       "      <td>Ok lar... Joking wif u oni...</td>\n",
       "      <td>29</td>\n",
       "    </tr>\n",
       "    <tr>\n",
       "      <th>2</th>\n",
       "      <td>1</td>\n",
       "      <td>Free entry in 2 a wkly comp to win FA Cup fina...</td>\n",
       "      <td>155</td>\n",
       "    </tr>\n",
       "    <tr>\n",
       "      <th>3</th>\n",
       "      <td>0</td>\n",
       "      <td>U dun say so early hor... U c already then say...</td>\n",
       "      <td>49</td>\n",
       "    </tr>\n",
       "    <tr>\n",
       "      <th>4</th>\n",
       "      <td>0</td>\n",
       "      <td>Nah I don't think he goes to usf, he lives aro...</td>\n",
       "      <td>61</td>\n",
       "    </tr>\n",
       "  </tbody>\n",
       "</table>\n",
       "</div>"
      ],
      "text/plain": [
       "   Class                                               Text  Count\n",
       "0      0  Go until jurong point, crazy.. Available only ...    111\n",
       "1      0                      Ok lar... Joking wif u oni...     29\n",
       "2      1  Free entry in 2 a wkly comp to win FA Cup fina...    155\n",
       "3      0  U dun say so early hor... U c already then say...     49\n",
       "4      0  Nah I don't think he goes to usf, he lives aro...     61"
      ]
     },
     "execution_count": 3,
     "metadata": {},
     "output_type": "execute_result"
    }
   ],
   "source": [
    "# Replace ham with 0 and spam with 1\n",
    "df = df.replace(['ham','spam'],[0, 1]) \n",
    "\n",
    "# displaying the new table\n",
    "df.head()"
   ]
  },
  {
   "cell_type": "markdown",
   "metadata": {},
   "source": [
    "## Data Visualization"
   ]
  },
  {
   "cell_type": "code",
   "execution_count": 4,
   "metadata": {
    "collapsed": false
   },
   "outputs": [
    {
     "name": "stdout",
     "output_type": "stream",
     "text": [
      "Number of ham messages in data set: 4825\n",
      "Ham Count value 273\n"
     ]
    }
   ],
   "source": [
    "# collecting ham messages in one place \n",
    "ham  = df[df.Class == 0]\n",
    "ham_count  = pd.DataFrame(pd.value_counts(ham['Count'],sort=True).sort_index())\n",
    "print \"Number of ham messages in data set:\", ham['Class'].count()\n",
    "print \"Ham Count value\", ham_count['Count'].count()"
   ]
  },
  {
   "cell_type": "code",
   "execution_count": 5,
   "metadata": {
    "collapsed": false
   },
   "outputs": [
    {
     "name": "stdout",
     "output_type": "stream",
     "text": [
      "Number of spam messages in data set: 747\n",
      "Spam Count value: 120\n"
     ]
    }
   ],
   "source": [
    "# collecting spam messages in one place \n",
    "spam = df[df.Class == 1]\n",
    "spam_count = pd.DataFrame(pd.value_counts(spam['Count'],sort=True).sort_index())\n",
    "print \"Number of spam messages in data set:\", spam['Class'].count()\n",
    "print \"Spam Count value:\", spam_count['Count'].count()"
   ]
  },
  {
   "cell_type": "code",
   "execution_count": 6,
   "metadata": {
    "collapsed": false
   },
   "outputs": [
    {
     "data": {
      "image/png": "[encoded data removed]",
      "text/plain": [
       "<matplotlib.figure.Figure at 0xd08ea90>"
      ]
     },
     "metadata": {},
     "output_type": "display_data"
    }
   ],
   "source": [
    "# ploating data for messages\n",
    "axes  = plt.axes() \n",
    "axes.set_xlim(0,270)\n",
    "axes.set_ylim(0,125)\n",
    "\n",
    "# naming axes\n",
    "axes.set_title('Messages by length of message')\n",
    "plt.xlabel('Length of message')\n",
    "plt.ylabel('Frequency count')\n",
    "\n",
    "xlinea = np.linspace(0,273,273,endpoint=True)\n",
    "xlineb = np.linspace(0,120,120,endpoint=True)\n",
    "p1 = axes.bar(xlinea, ham_count['Count'], width=1.75, color='g')\n",
    "p2 = axes.bar(xlineb,spam_count['Count'], width=1.75, color='r')\n",
    "\n",
    "plt.legend((p1[0], p2[0]), ('Ham', 'Spam'))\n",
    "plt.show()"
   ]
  },
  {
   "cell_type": "markdown",
   "metadata": {},
   "source": [
    "## Preparing the Data"
   ]
  },
  {
   "cell_type": "code",
   "execution_count": 7,
   "metadata": {
    "collapsed": false
   },
   "outputs": [],
   "source": [
    "# importing Natural Language Toolkit \n",
    "from nltk.corpus import stopwords\n",
    "from sklearn.feature_extraction.text import TfidfVectorizer\n",
    "from sklearn.feature_extraction.text import CountVectorizer\n",
    "\n",
    "#if true it will download all the stopwords\n",
    "if False:\n",
    "    nltk.download('stopwords')\n",
    "\n",
    "#if true will create vectorizer without any stopwords\n",
    "if False:\n",
    "    vectorizer = TfidfVectorizer()\n",
    "\n",
    "#if true will create vectorizer with stopwords\n",
    "if True:\n",
    "    stopset = set(stopwords.words(\"english\"))\n",
    "    vectorizer = TfidfVectorizer(stop_words=stopset,binary=True)"
   ]
  },
  {
   "cell_type": "code",
   "execution_count": 8,
   "metadata": {
    "collapsed": false
   },
   "outputs": [],
   "source": [
    "# Extract feature column 'Text'\n",
    "X = vectorizer.fit_transform(df.Text)\n",
    "# Extract target column 'Class'\n",
    "y = df.Class"
   ]
  },
  {
   "cell_type": "code",
   "execution_count": 9,
   "metadata": {
    "collapsed": false
   },
   "outputs": [
    {
     "name": "stdout",
     "output_type": "stream",
     "text": [
      "Training set has 4457 samples.\n",
      "Testing set has 1115 samples.\n"
     ]
    }
   ],
   "source": [
    "#Shuffle and split the dataset into the number of training and testing points\n",
    "if True: \n",
    "    from sklearn.cross_validation import train_test_split\n",
    "    X_train, X_test, y_train, y_test = train_test_split(X, y, test_size=0.20, train_size=0.80, random_state=42)\n",
    "\n",
    "# Show the results of the split\n",
    "print \"Training set has {} samples.\".format(X_train.shape[0])\n",
    "print \"Testing set has {} samples.\".format(X_test.shape[0])"
   ]
  },
  {
   "cell_type": "markdown",
   "metadata": {},
   "source": [
    "## Training and Evaluating Models"
   ]
  },
  {
   "cell_type": "code",
   "execution_count": 10,
   "metadata": {
    "collapsed": false
   },
   "outputs": [],
   "source": [
    "# Import the models from sklearn\n",
    "from sklearn.metrics import accuracy_score\n",
    "from sklearn.metrics import f1_score\n",
    "from sklearn.naive_bayes import MultinomialNB\n",
    "from sklearn.tree import DecisionTreeClassifier\n",
    "from sklearn.neighbors import KNeighborsClassifier\n",
    "from sklearn.ensemble import RandomForestClassifier\n",
    "from sklearn.ensemble import AdaBoostClassifier\n",
    "\n",
    "objects = ('Multi-NB', 'DTs', 'AdaBoost', 'KNN', 'RF')"
   ]
  },
  {
   "cell_type": "code",
   "execution_count": 11,
   "metadata": {
    "collapsed": true
   },
   "outputs": [],
   "source": [
    "# function to train classifier\n",
    "def train_classifier(clf, X_train, y_train):    \n",
    "    clf.fit(X_train, y_train)\n",
    "\n",
    "# function to predict features \n",
    "def predict_labels(clf, features):\n",
    "    return (clf.predict(features))"
   ]
  },
  {
   "cell_type": "code",
   "execution_count": 12,
   "metadata": {
    "collapsed": false
   },
   "outputs": [],
   "source": [
    "# Initialize the three models\n",
    "A = MultinomialNB(alpha=1.0,fit_prior=True)\n",
    "B = DecisionTreeClassifier(random_state=42)\n",
    "C = AdaBoostClassifier(n_estimators=100)\n",
    "D = KNeighborsClassifier(n_neighbors=3)\n",
    "E = RandomForestClassifier(n_estimators=10, max_depth=None, min_samples_split=2, random_state=0)"
   ]
  },
  {
   "cell_type": "code",
   "execution_count": 13,
   "metadata": {
    "collapsed": false
   },
   "outputs": [
    {
     "name": "stdout",
     "output_type": "stream",
     "text": [
      "0.904411764706\n",
      "0.890459363958\n",
      "0.940350877193\n",
      "0.626728110599\n",
      "0.896296296296\n"
     ]
    }
   ],
   "source": [
    "# loop to call function for each model\n",
    "clf = [A,B,C,D,E]\n",
    "pred_val = [0,0,0,0,0]\n",
    "\n",
    "for a in range(0,5):\n",
    "    train_classifier(clf[a], X_train, y_train)\n",
    "    y_pred = predict_labels(clf[a],X_test)\n",
    "    pred_val[a] = f1_score(y_test, y_pred,  average='binary') \n",
    "    print pred_val[a]"
   ]
  },
  {
   "cell_type": "code",
   "execution_count": 14,
   "metadata": {
    "collapsed": false
   },
   "outputs": [
    {
     "data": {
      "image/png": "[encoded data removed]",
      "text/plain": [
       "<matplotlib.figure.Figure at 0xe747198>"
      ]
     },
     "metadata": {},
     "output_type": "display_data"
    }
   ],
   "source": [
    "# ploating data for F1 Score\n",
    "y_pos = np.arange(len(objects))\n",
    "y_val = [ x for x in pred_val]\n",
    "plt.bar(y_pos,y_val, align='center', alpha=0.7)\n",
    "plt.xticks(y_pos, objects)\n",
    "plt.ylabel('Accuracy Score')\n",
    "plt.title('Accuracy of Models')\n",
    "plt.show()"
   ]
  },
  {
   "cell_type": "markdown",
   "metadata": {},
   "source": [
    "## Result Analysis"
   ]
  },
  {
   "cell_type": "code",
   "execution_count": 15,
   "metadata": {
    "collapsed": false
   },
   "outputs": [
    {
     "data": {
      "image/png": "[encoded data removed]",
      "text/plain": [
       "<matplotlib.figure.Figure at 0xcad1208>"
      ]
     },
     "metadata": {},
     "output_type": "display_data"
    }
   ],
   "source": [
    "# ploating data for Accuracy Score\n",
    "# ploating data for Accuracy of Models between 1.00 - 0.90 for better visualization\n",
    "objects = ('','Untunded', 'Tuned','')\n",
    "y_pos = np.arange(4)\n",
    "y_val = [0,0.93470790378,0.937062937063,0 ]\n",
    "plt.bar(y_pos,y_val, align='center',width = 0.5, alpha=0.6)\n",
    "plt.xticks(y_pos, objects)\n",
    "plt.ylabel('Accuracy Score')\n",
    "plt.title('Accuracy of AdaBoost')\n",
    "plt.show()"
   ]
  }
 ],
 "metadata": {
  "anaconda-cloud": {},
  "kernelspec": {
   "display_name": "Python [conda root]",
   "language": "python",
   "name": "conda-root-py"
  },
  "language_info": {
   "codemirror_mode": {
    "name": "ipython",
    "version": 2
   },
   "file_extension": ".py",
   "mimetype": "text/x-python",
   "name": "python",
   "nbconvert_exporter": "python",
   "pygments_lexer": "ipython2",
   "version": "2.7.12"
  }
 },
 "nbformat": 4,
 "nbformat_minor": 1
}
